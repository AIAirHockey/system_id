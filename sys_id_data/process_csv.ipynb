{
 "cells": [
  {
   "cell_type": "code",
   "execution_count": 92,
   "id": "72d332d5",
   "metadata": {},
   "outputs": [
    {
     "name": "stdout",
     "output_type": "stream",
     "text": [
      "PULLEY_RADIUS = 3.572890e-02\n"
     ]
    }
   ],
   "source": [
    "import pandas as pd\n",
    "import numpy as np\n",
    "import matplotlib.pyplot as plt\n",
    "\n",
    "input_csv_file = 'feedforward_data_12V_Supercap.csv'  # Replace with your input CSV file name\n",
    "raw_file = pd.read_csv(input_csv_file)\n",
    "print(\"PULLEY_RADIUS =\", \"{:.6e}\".format(raw_file.loc[0, \"x\"]))\n",
    "raw_file = raw_file.iloc[1:raw_file.shape[0]].reset_index(drop=True)  # Remove first row"
   ]
  },
  {
   "cell_type": "markdown",
   "id": "b1ccd22f",
   "metadata": {},
   "source": [
    "#### Smooth outliers in raw file"
   ]
  },
  {
   "cell_type": "markdown",
   "id": "6cbb78ed",
   "metadata": {},
   "source": [
    "Calculate discrepancies"
   ]
  },
  {
   "cell_type": "code",
   "execution_count": 93,
   "id": "a1f450a2",
   "metadata": {},
   "outputs": [],
   "source": [
    "outlier_csv = raw_file.copy()\n",
    "coords = outlier_csv[['x','y']].to_numpy()\n",
    "\n",
    "# Neighbor arrays\n",
    "prev_coords = np.roll(coords, 1, axis=0)\n",
    "next_coords = np.roll(coords, -1, axis=0)\n",
    "\n",
    "# Distances\n",
    "dist_prev = np.linalg.norm(coords - prev_coords, axis=1)\n",
    "dist_next = np.linalg.norm(coords - next_coords, axis=1)\n",
    "\n",
    "# Discrepancy measure\n",
    "discrepancy = dist_prev*dist_next"
   ]
  },
  {
   "cell_type": "markdown",
   "id": "7d48e6b4",
   "metadata": {},
   "source": [
    "Sort based on discrepancies"
   ]
  },
  {
   "cell_type": "code",
   "execution_count": 94,
   "metadata": {},
   "outputs": [
    {
     "name": "stdout",
     "output_type": "stream",
     "text": [
      "             x         y  Left_PWM  Right_PWM        dt  discrepancy\n",
      "9998  0.503563  0.369320       0.0   0.499997  0.343760     0.000086\n",
      "0     0.599239  0.471824       0.0  -0.499997  0.250008     0.000005\n",
      "2001  0.782846  0.524773       0.0  -0.499997  0.468764     0.000003\n"
     ]
    }
   ],
   "source": [
    "# Store it if you want to inspect\n",
    "outlier_csv['discrepancy'] = discrepancy\n",
    "outliers_sorted = outlier_csv.sort_values('discrepancy', ascending=False)\n",
    "\n",
    "top_outliers = outliers_sorted.iloc[0:3,:]\n",
    "print(top_outliers)"
   ]
  },
  {
   "cell_type": "code",
   "execution_count": 6,
   "id": "1f344a0e",
   "metadata": {},
   "outputs": [],
   "source": [
    "# for index in top_outliers.index:\n",
    "#     if index == 0 or index == len(coords) - 1:\n",
    "#         continue  # Skip first and last rows\n",
    "#     print(raw_file.iloc[index-1:index+2,:])\n",
    "#     print(\"----------------------------\")"
   ]
  },
  {
   "cell_type": "markdown",
   "id": "bea44d5e",
   "metadata": {},
   "source": [
    "Replace outliers"
   ]
  },
  {
   "cell_type": "code",
   "execution_count": 7,
   "id": "333bbd4e",
   "metadata": {},
   "outputs": [],
   "source": [
    "# --- Vectorized replacement ---\n",
    "# Note: \n",
    "threshold = 1e-4 # <-- choose your threshold here\n",
    "\n",
    "mask = discrepancy > threshold\n",
    "\n",
    "# Compute neighbor averages\n",
    "avg_neighbors = (prev_coords + next_coords) / 2\n",
    "\n",
    "# Replace only where mask is True (excluding first/last index)\n",
    "valid_mask = mask & (np.arange(len(coords)) > 0) & (np.arange(len(coords)) < len(coords)-1)\n",
    "\n",
    "coords[valid_mask] = avg_neighbors[valid_mask]\n",
    "\n",
    "# Put back into df\n",
    "raw_file[['x','y']] = coords"
   ]
  },
  {
   "cell_type": "markdown",
   "id": "31ab4bcc",
   "metadata": {},
   "source": [
    "Linear regression"
   ]
  },
  {
   "cell_type": "code",
   "execution_count": 95,
   "id": "0346b2fd",
   "metadata": {},
   "outputs": [],
   "source": [
    "window_size = 21   # must be odd for regression center\n",
    "half_window = window_size // 2\n",
    "chunk_size = 1000  # Number of rows per output file"
   ]
  },
  {
   "cell_type": "code",
   "execution_count": 96,
   "id": "22ae64f3",
   "metadata": {},
   "outputs": [],
   "source": [
    "# Add empty columns first\n",
    "raw_file[\"X_Velocity_m_s_\"] = np.nan\n",
    "raw_file[\"Y_Velocity_m_s_\"] = np.nan\n",
    "raw_file[\"X_Accel_m_s2_\"] = np.nan\n",
    "raw_file[\"Y_Accel_m_s2_\"] = np.nan\n",
    "\n",
    "# --- Choose a segment  ---\n",
    "for i in range(0, len(raw_file), chunk_size):\n",
    "    # Select segment centered at i*1000\n",
    "    start = max(0, i - half_window)\n",
    "    end   = min(len(raw_file), i + half_window)\n",
    "\n",
    "    segment = raw_file.iloc[start:end+1].reset_index(drop=True)\n",
    "\n",
    "    # --- Extract arrays ---\n",
    "    x = segment[\"x\"].to_numpy()\n",
    "    y = segment[\"y\"].to_numpy()\n",
    "    dt = segment[\"dt\"].to_numpy()\n",
    "\n",
    "    # --- Cumulative time (needed for regression) ---\n",
    "    t = (np.cumsum(dt)-dt[0]) / 1000.0 # convert to seconds\n",
    "\n",
    "    # ======================\n",
    "    # 1) Linear regression method\n",
    "    # ======================\n",
    "    # Fit x(t), y(t) quadratically: ax*t^2 + bx + c\n",
    "    coef_x, residual_x, _, _, _ = np.polyfit(t, x, 2, full=True)\n",
    "    coef_y, residual_y, _, _, _ = np.polyfit(t, y, 2, full=True)\n",
    "\n",
    "    ax, ay = 2*coef_x[0], 2*coef_y[0]     # accelerations\n",
    "    vx, vy = coef_x[1], coef_y[1]         # initial velocities\n",
    "\n",
    "    # Position of vector: center of window\n",
    "    center_idx = (start + (end - start) // 2) * (i > 0)\n",
    "    vel_x = ax * t + vx\n",
    "    vel_y = ay * t + vy\n",
    "    accel_x = np.full(len(vel_x), ax)\n",
    "    accel_y = np.full(len(vel_y), ay)\n",
    "\n",
    "    raw_file.loc[start:end, \"X_Velocity_m_s_\"] = vel_x\n",
    "    raw_file.loc[start:end, \"Y_Velocity_m_s_\"] = vel_y\n",
    "    raw_file.loc[start:end, \"X_Accel_m_s2_\"] = accel_x\n",
    "    raw_file.loc[start:end, \"Y_Accel_m_s2_\"] = accel_y\n",
    "    raw_file.loc[center_idx, \"x\"] = ax / 2 * t[center_idx - start]**2 + vx * t[center_idx - start] + coef_x[2]\n",
    "    raw_file.loc[center_idx, \"y\"] = ay / 2 * t[center_idx - start]**2 + vy * t[center_idx - start] + coef_y[2]\n",
    "\n",
    "    # raw_file.loc[center_idx, \"X_Velocity_m_s_\"] = vel_x[center_idx - start]\n",
    "    # raw_file.loc[center_idx, \"Y_Velocity_m_s_\"] = vel_y[center_idx - start]\n",
    "    # raw_file.loc[center_idx, \"X_Accel_m_s2_\"] = accel_x[center_idx - start]\n",
    "    # raw_file.loc[center_idx, \"Y_Accel_m_s2_\"] = accel_y[center_idx - start]"
   ]
  },
  {
   "cell_type": "markdown",
   "id": "1fd93476",
   "metadata": {},
   "source": [
    "Split CSV into chunks"
   ]
  },
  {
   "cell_type": "code",
   "execution_count": 97,
   "id": "b49dc370",
   "metadata": {},
   "outputs": [
    {
     "name": "stdout",
     "output_type": "stream",
     "text": [
      "CSV file 'feedforward_data_12V_Supercap.csv' split into 10 files.\n"
     ]
    }
   ],
   "source": [
    "batch_number = 1\n",
    "\n",
    "# for chunk in pd.read_csv(input_csv_file, chunksize=chunk_size):\n",
    "#     output_filename = f'feedforward_data_12V_{batch_number}.csv'\n",
    "#     chunk.to_csv(output_filename, index=False)  # index=False prevents writing the DataFrame index\n",
    "#     batch_number += 1\n",
    "\n",
    "for i in range(0, len(raw_file), chunk_size):\n",
    "    chunk = raw_file.iloc[i:i+chunk_size]\n",
    "    output_filename = f'feedforward_data_12V_{batch_number}.csv'\n",
    "    chunk.to_csv(output_filename, index=False)\n",
    "    batch_number += 1\n",
    "\n",
    "print(f\"CSV file '{input_csv_file}' split into {batch_number - 1} files.\")"
   ]
  },
  {
   "cell_type": "code",
   "execution_count": 91,
   "id": "680c21e6",
   "metadata": {},
   "outputs": [
    {
     "data": {
      "text/plain": [
       "[<matplotlib.lines.Line2D at 0x12f399da790>]"
      ]
     },
     "execution_count": 91,
     "metadata": {},
     "output_type": "execute_result"
    },
    {
     "data": {
      "image/png": "[encoded data removed]",
      "text/plain": [
       "<Figure size 1200x600 with 1 Axes>"
      ]
     },
     "metadata": {},
     "output_type": "display_data"
    }
   ],
   "source": [
    "plt.figure(figsize=(12, 6))\n",
    "plt.xlim(0, 2)\n",
    "plt.ylim(0, 1)\n",
    "# plt.figure(figsize=(8, 8))\n",
    "# plt.xlim(0.3, 0.7)\n",
    "# plt.ylim(0.3, 0.7)\n",
    "plt.plot(raw_file['x'], raw_file['y'], label='Position', alpha=0.5)\n",
    "path_chunk = pd.read_csv('feedforward_data_12V_10.csv')\n",
    "plt.plot(path_chunk['x'], path_chunk['y'], label='Chunk Position', alpha=0.5)"
   ]
  },
  {
   "cell_type": "code",
   "execution_count": null,
   "id": "2019c905",
   "metadata": {},
   "outputs": [],
   "source": []
  }
 ],
 "metadata": {
  "kernelspec": {
   "display_name": "base",
   "language": "python",
   "name": "python3"
  },
  "language_info": {
   "codemirror_mode": {
    "name": "ipython",
    "version": 3
   },
   "file_extension": ".py",
   "mimetype": "text/x-python",
   "name": "python",
   "nbconvert_exporter": "python",
   "pygments_lexer": "ipython3",
   "version": "3.11.5"
  }
 },
 "nbformat": 4,
 "nbformat_minor": 5
}
